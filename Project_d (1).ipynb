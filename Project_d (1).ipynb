{
  "nbformat": 4,
  "nbformat_minor": 0,
  "metadata": {
    "colab": {
      "name": "Project_d.ipynb",
      "provenance": [],
      "collapsed_sections": []
    },
    "kernelspec": {
      "name": "python3",
      "display_name": "Python 3"
    },
    "language_info": {
      "name": "python"
    }
  },
  "cells": [
    {
      "cell_type": "code",
      "metadata": {
        "id": "guJDFOHVGmns"
      },
      "source": [
        "# For full Project Mail me for vatshayan007@gmail.com \n",
        "\n",
        "#Hi\n",
        "\n",
        "def generateKey(string, key): \n",
        "\tkey = list(key) \n",
        "\tif len(string) == len(key): \n",
        "\t\treturn(key) \n",
        "\telse: \n",
        "\t\tfor i in range(len(string) -\n",
        "\t\t\t\t\tlen(key)): \n",
        "\t\t\tkey.append(key[i % len(key)]) \n",
        "\treturn(\"\" . join(key))\n",
        "\n",
        "# This is Only 10% code, for Full code mail me Now. \n",
        "# Mail me Now (vatshayan007@gmail.com) for full Code  ! \n"
      ],
      "execution_count": null,
      "outputs": []
    },
    {
      "cell_type": "code",
      "metadata": {
        "id": "6apXL2QjGncJ"
      },
      "source": [
        ""
      ],
      "execution_count": null,
      "outputs": []
    }
  ]
}